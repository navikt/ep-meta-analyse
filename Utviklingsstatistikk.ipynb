{
  "cells": [
    {
      "cell_type": "markdown",
      "id": "fc0d5784",
      "metadata": {},
      "source": [
        "# Utviklingsstatistikk"
      ]
    },
    {
      "cell_type": "markdown",
      "id": "1b721dfc",
      "metadata": {},
      "source": [
        "[Oppsummering](#oppsummering)\n",
        "\n",
        "[Formål](#formål)\n",
        "\n",
        "[Utfordring med å måle sikker og stabil drift](#utfordring)\n",
        "\n",
        "[Måleparametere](#måleparametere)\n",
        "\n",
        "[Om systemet](#omsystemet)\n",
        "\n",
        "[Målinger](#målinger)\n",
        "\n",
        "* [Kodestørrelse](#kodestørrelse)\n",
        "* [Kodeendringer](#kodeendringer)\n",
        "* [Netto vekst i kodelinjer](#nettovekst)\n",
        "* [Detaljer i netto vekst i kodelinjer](#nettovekstdetaljer)\n",
        "* [Oppdatering av avhengigheter](#oppdateringavhengigheter)\n",
        "* [Løpende endringer i systemet](#løpendeendringer)\n",
        "* [Risiko](#risiko)\n",
        "\n"
      ]
    },
    {
      "cell_type": "markdown",
      "id": "8fb57d8d",
      "metadata": {},
      "source": [
        "\n",
        "# Oppsummering <a class=\"anchor\" id=\"oppsummering\"></a>\n",
        "\n",
        "[TBW]"
      ]
    },
    {
      "cell_type": "markdown",
      "id": "2059e0bd",
      "metadata": {},
      "source": [
        "# Formål <a class=\"anchor\" id=\"formål\"></a>\n",
        "\n",
        "Teamet har blitt bedt om å måle på noe som kan indikere om vi har sikker og stabil drift."
      ]
    },
    {
      "cell_type": "markdown",
      "id": "f1d7b166",
      "metadata": {},
      "source": [
        "# Utfordring med å måle sikker og stabil drift  <a class=\"anchor\" id=\"utfordring\"></a>\n",
        "\n",
        "Utfordringen med tradisjonell måling av sikker og stabil drift er at den gjerne måler på ting som oppetid eller rettetid. Dette er målinger som først slår ut etter at driften ikke lenger er sikker og/eller stabil, og det kan ta lang tid fra driften faktisk har blitt problematisk til målingene slår ut.\n",
        "\n",
        "Vår erfaring er at risiko øker når systemer ikke holdes vedlike. Risiko påvirkes av manglende vedlikehold gjennom flere prosesser:\n",
        "1)\tManglende oppdatering av avhengigheter gir økt sikkerhetsrisiko\n",
        "2)\tManglende teknisk oppdatering gir økt sikkerhetsrisiko og risiko for lav kjennskap til utdaterte tekniske løsninger\n",
        "3)\tLite andre endringer reduserer kunnskapen om systemet som øker rettetid og øker sjansen for feil når man en sjelden gang gjør enderinger\n",
        "\n",
        "Vi mener det er verdt å forsøke å måle på utviklingsprosessen for å se om det kan gi indikatorer som sier noe om risikobildet.\n",
        "\n",
        "Siden det er kostnader ved å gjøre målinger har vi sett etter målinger som er forholdsvis lette å innhente og som kan gi en indikasjon på at systemet vedlikeholdes.\n"
      ]
    },
    {
      "cell_type": "markdown",
      "id": "a77bfdc5",
      "metadata": {},
      "source": [
        "# Måleparametere  <a class=\"anchor\" id=\"måleparametere\"></a>\n",
        "\n",
        "Teamet tok sommeren 2022 i bruk teknikkene micro-commits og Arlo’s commit notation – dette gjør det mulig å benytte commit-statistikk til å si noe om omfang, intensjon og risiko ved commit’er.\n",
        "\n",
        "Teamet har besluttet å se om\n",
        "•\ttellinger og forholdstall på ulike typer commits og\n",
        "•\tmåling på kodestørrelse\n",
        "kan indikere hvordan utviklingen er – og predikere eller illustrere en situasjon der det vil oppstå økt risiko for ustabil / usikker drift."
      ]
    },
    {
      "cell_type": "code",
      "id": "f16f53d6",
      "metadata": {},
      "source": [
        "# Setter ROOT_DIR\n",
        "import os, sys\n",
        "ROOT_DIR = os.path.dirname(os.path.abspath(\"\")) if os.path.basename(os.path.abspath(\"\")) != \"eessi-pensjon\" else os.path.abspath(\"\")\n",
        "os.chdir(ROOT_DIR)\n",
        "sys.path.append(f'${ROOT_DIR}/ep-meta-analyse')"
      ],
      "outputs": [],
      "execution_count": null
    },
    {
      "cell_type": "code",
      "id": "e1cf54f3",
      "metadata": {},
      "source": [
        "# Henter inn commit-data\n",
        "from datetime import datetime\n",
        "from lib.commit_data import gather_changes_from_subprojects\n",
        "\n",
        "startdate = datetime(2022, 1, 1)\n",
        "commits_dict = gather_changes_from_subprojects(ROOT_DIR, datetime.now() - startdate)"
      ],
      "outputs": [],
      "execution_count": null
    },
    {
      "cell_type": "code",
      "id": "a2348513",
      "metadata": {},
      "source": [
        "# Konverter data til Pandas dataframe\n",
        "import pandas as pd\n",
        "import numpy as np\n",
        "\n",
        "df = pd.DataFrame(commits_dict)\n",
        "\n",
        "# Fiks datoformat fra python til pandas (og samme tidssone)\n",
        "df['timestamp'] = df['timestamp'].apply(lambda x: pd.to_datetime(x).tz_convert('Europe/Berlin'))\n",
        "df['risk'] = pd.to_numeric(df['risk'])\n",
        "df['commit'] = df['hash']\n",
        "\n",
        "# Legg på måned og tertial\n",
        "\n",
        "df['Måned'] = pd.PeriodIndex(df['timestamp'], freq='M')\n",
        "df['Tertial'] = df[\"timestamp\"].apply(lambda x: f\"{x.year}T{int((x.month - 1) / 4) + 1}\")\n",
        "# Legger til noen kjekke kolonner\n",
        "df['BDFRT'] = np.where(df['intention'].isin(['B', 'D', 'F', 'R', 'T']), True, False)\n",
        "df['UE'] = np.where(df['intention'].isin(['U', 'E']), True, False)\n",
        "\n",
        "# Mer lesbar intention\n",
        "conditions = [df['intention'] == 'E', df['intention'] == 'A', df['intention'] == 'P',\n",
        "              df['intention'] == 'U', df['intention'] == 'F', df['intention'] == 'R',\n",
        "              df['intention'] == 'D', df['intention'] == 'T', df['intention'] == 'B',\n",
        "              df['intention'] == '*']\n",
        "choices = ['E Miljø', 'A Automatisert', 'P Release (bibliotek)', 'U Avhengighet',\n",
        "           'F Funksjonalitet', 'R Refaktorering', 'D Dokumentasjon', 'T Test',\n",
        "           'B Feilretting', '* Uklassifisert']\n",
        "df['Intention'] = np.select(conditions, choices, np.nan)\n",
        "\n",
        "# Mer lesbar risk\n",
        "conditions = [df['risk'] == 0, df['risk'] == 1, df['risk'] == 2, df['risk'] == 3,\n",
        "              df['risk'] == 4, df['risk'] == 5, pd.isnull(df['risk'])]\n",
        "choices = ['0 Ingen risiko', '1 Kjent trygg', '2 Validert', '3 Kjent restrisiko',\n",
        "           '4 Feil/sannsynlig feil', '5 Ukjent risiko', np.nan]\n",
        "df['Risk'] = np.select(conditions, choices, default=np.nan)\n",
        "\n",
        "df['Kjent intention/risiko'] = np.where(df['intention'] != '*', True, False)\n",
        "\n",
        "df_commits = df"
      ],
      "outputs": [],
      "execution_count": null
    },
    {
      "cell_type": "code",
      "id": "e9ddfcca",
      "metadata": {},
      "source": [
        "# Henter inn størrelsedata\n",
        "from lib.size_data import size_data, change_data\n",
        "\n",
        "size_dict = size_data(ROOT_DIR)"
      ],
      "outputs": [],
      "execution_count": null
    },
    {
      "cell_type": "code",
      "id": "5e4e8866",
      "metadata": {},
      "source": [
        "df = pd.DataFrame(size_dict)\n",
        "df['date'] = pd.to_datetime(df['date'], format='%Y-%m-%d')\n",
        "for col in ['files', 'blank lines', 'comment lines', 'code lines']:\n",
        "    df[col] = df[col].astype(int)\n",
        "\n",
        "df_size = df"
      ],
      "outputs": [],
      "execution_count": null
    },
    {
      "cell_type": "code",
      "id": "89cf47f0",
      "metadata": {},
      "source": [
        " # Henter inn endring i størrelse-data\n",
        "\n",
        "siste_tertial = \"2023T1\"\n",
        "tertialer = [\"2022T3\", siste_tertial]\n",
        "\n",
        "df_changes= {}\n",
        "for tertial in tertialer:\n",
        "    changes_dict = change_data(ROOT_DIR, tertial)\n",
        "\n",
        "    df = pd.DataFrame(changes_dict)\n",
        "\n",
        "    # Konverter \"tall\" til tall\n",
        "    for col in df.columns[df.columns.get_loc('== files'):]:\n",
        "        df[col] = df[col].astype(int)\n",
        "\n",
        "    df_changes[tertial] = df"
      ],
      "outputs": [],
      "execution_count": null
    },
    {
      "cell_type": "code",
      "id": "389852c3",
      "metadata": {},
      "source": [
        "df = df_commits[['Måned', 'Kjent intention/risiko']]\n",
        "\n",
        "df = df.groupby(df['Måned']).mean()\n",
        "fig = df.plot(kind='bar')"
      ],
      "outputs": [],
      "execution_count": null
    },
    {
      "cell_type": "markdown",
      "id": "69568ca3",
      "metadata": {},
      "source": [
        "Vi observerer at [TBW]"
      ]
    },
    {
      "cell_type": "markdown",
      "id": "669b37d9",
      "metadata": {},
      "source": [
        "# Om systemet <a class=\"anchor\" id=\"omsystemet\"></a>\n",
        "\n",
        "Systemet består av en frontendapplikasjon (saksbehandling-ui), 10 backendapplikasjoner, 7 delte bibliotek på backend og et antall bibliotek på frontend (som foreløpig ikke er med i oversikten og statistikken).\n",
        "\n",
        "|Applikasjoner||\n",
        "|---|---|\n",
        "|saksbehandling-ui|Frontend for saksbehandlere|\n",
        "|oppgave|Oppgaver til Oppgave (asynkron)|\n",
        "|krav-initialisering|Krav til Pesys (asynkron)|\n",
        "|statistikk|Statistikk til Statistikk-folket (asynkron)|\n",
        "|onprem-proxy|For å kalle fra GCP til/fra onprem (Pesys mm) (online)|\n",
        "|saksbehandling-api|Fasade for diverse API for saksbehandling-ui (online)|\n",
        "|begrens-innsyn|Merking av saker med beskyttelse (asynkron)|\n",
        "|journalforing|Journalføring av dokumenter (asynkron)|\n",
        "|prefill|Preutfylling av SED (online)|\n",
        "|fagmodul|Diverse API for saksbehandling-ui m fl (online)|\n",
        "|pdl-produsent|Oppdatering av PDL med id’er og adresser (asynkron)|\n",
        "\n",
        "| Bibliotek              ||\n",
        "|------------------------|---|\n",
        "| ep-metrics             |Metrikk-bibliotek|\n",
        "| ep-eux                 |Domene-modell SED/BUC mm|\n",
        "| ep-logging             |Loggingsbibliotek|\n",
        "| ep-personoppslag       |Klient for oppslag mot PDL|\n",
        "| ep-security-sts        |Brukes onprem for token-utveksling|\n",
        "| ep-pensjonsinformasjon |Klient for oppslag mot Pesys|\n",
        "| ep-kodeverk            |Klient mm - opplag i kodeverk|\n",
        "\n",
        "| Meta                   ||\n",
        "| ---                    |---|\n",
        "| Meta                   |Verktøy for å jobbe på tvers av modulene nevnt ovenfor|\n",
        "\n"
      ]
    },
    {
      "cell_type": "markdown",
      "id": "9e0eddd7",
      "metadata": {},
      "source": [
        "# Målinger <a class=\"anchor\" id=\"målinger\"></a>"
      ]
    },
    {
      "cell_type": "markdown",
      "id": "b69090df",
      "metadata": {},
      "source": [
        "## Kodestørrelse <a class=\"anchor\" id=\"kodestørrelse\"></a>\n",
        "\n",
        "Kodestørrelse i applikasjoner korrelerer godt med kompleksitet, som igjen korrelerer med feil- og vedlikeholdsomfang.\n",
        "\n",
        "Vi teller kodelinjer med cloc[^1]. (Det er noen små frontend-bibliotek som deles mellom EESSI NAV og EESSI Pensjon som ikke er med i statistikken)."
      ]
    },
    {
      "cell_type": "markdown",
      "id": "7cc8a6d8",
      "metadata": {},
      "source": [
        "### Kodestørrelse"
      ]
    },
    {
      "cell_type": "code",
      "id": "30c17638",
      "metadata": {},
      "source": [
        "print(f\"Kodestørrelse pr {df_size['date'].dt.strftime('%d.%m.%Y')[0]}.\")"
      ],
      "outputs": [],
      "execution_count": null
    },
    {
      "cell_type": "code",
      "id": "03d67ca8",
      "metadata": {},
      "source": [
        "df = df_size[['language', 'files', 'code lines', 'comment lines']]\n",
        "df.groupby('language').sum().sort_values(by='code lines', ascending=False)"
      ],
      "outputs": [],
      "execution_count": null
    },
    {
      "cell_type": "code",
      "id": "4b978df8",
      "metadata": {},
      "source": [
        "df = df_size[['language', 'code lines']]\n",
        "df = df.groupby('language').sum().sort_values('code lines', ascending=False)\n",
        "\n",
        "def autopct(pct): # only show the label when it's > 2%\n",
        "    return ('%.0f' % pct + '%') if pct > 2 else ''\n",
        "\n",
        "plt = df.plot.pie(y='code lines', autopct=autopct, labeldistance=None).legend(loc='center left',bbox_to_anchor=(1.0, 0.5))"
      ],
      "outputs": [],
      "execution_count": null
    },
    {
      "cell_type": "markdown",
      "id": "7ecb614f",
      "metadata": {},
      "source": [
        "Koden er stort sett skrevet i Kotlin og TypeScript, og noe LESS– øvrig kode er knyttet til bygg, deploy, konfigurasjon og diverse utviklings- og støtteverktøy.\n"
      ]
    },
    {
      "cell_type": "markdown",
      "id": "99f58921",
      "metadata": {},
      "source": [
        "[^1]: Mer om cloc-kommandoen:\n",
        "```\n",
        "cloc --csv --vcs git --exclude-dir=dist,build,gradle --exclude-list-file=.clocignore --exclude-lang=JSON,XML --quiet .\n",
        "```\n",
        "der .clocignore inneholder:\n",
        "```\n",
        "gradlew\n",
        "gradlew.bat\n",
        "public/pdf.worker.js\n",
        "public/static/js/pdf.worker.js\n",
        "package-lock.json\n",
        "src/components/PostalCodes/Postal-codes-Norway-ansi.ts\n",
        "src/minibootstrap.less\n",
        "```"
      ]
    },
    {
      "cell_type": "code",
      "id": "fa086b2b",
      "metadata": {},
      "source": [
        "df = df_size[['module', 'code lines']]\n",
        "df = df.groupby('module').sum().sort_values(by='code lines', ascending=False)\n",
        "df['code lines %'] = df['code lines'] / df['code lines'].sum() * 100\n",
        "df"
      ],
      "outputs": [],
      "execution_count": null
    },
    {
      "cell_type": "markdown",
      "id": "a1ce90e7",
      "metadata": {},
      "source": [
        "Frontend-app’en for saksbehandling utgjør om lag en tredel av den totale koden, i én app."
      ]
    },
    {
      "cell_type": "code",
      "id": "936bb5b1",
      "metadata": {},
      "source": [
        "plot = df.plot.pie(y='code lines', legend=False, ylabel='', title=\"code by module\")"
      ],
      "outputs": [],
      "execution_count": null
    },
    {
      "cell_type": "code",
      "id": "90c8e570",
      "metadata": {},
      "source": [
        "df = df_size[['module', 'language', 'code lines']]\n",
        "df = df.groupby(['module', 'language']).sum().unstack()\n",
        "\n",
        "plt = df.plot(kind='bar', stacked=True, title=\"modules and languages\").legend(loc='center left',bbox_to_anchor=(1.0, 0.5))"
      ],
      "outputs": [],
      "execution_count": null
    },
    {
      "cell_type": "markdown",
      "id": "1eebf1f1",
      "metadata": {},
      "source": [
        "\n",
        "## Kodeendringer <a class=\"anchor\" id=\"kodeendringer\"></a>\n",
        "\n",
        "Vi kan se på hvilke app’er det er gjort kodeendringer i ved å sammenlikne koden på starten og slutten av tertialet."
      ]
    },
    {
      "cell_type": "code",
      "id": "689f0925",
      "metadata": {},
      "source": [
        "\n",
        "df = df_changes[siste_tertial][['type', 'module', '!= code', '+ code', '- code']].copy()\n",
        "\n",
        "df['touched code'] = df['!= code'] + df['+ code'] + (df['- code'] / 2).astype(int)\n",
        "\n",
        "df = df[['type', 'module', 'touched code']]\n",
        "\n",
        "plt = df.groupby(['type', 'module']).sum().sort_index(ascending=True).plot.barh(title='\"Rørte\" kodelinjer (endrede + nye + slettede/2)')"
      ],
      "outputs": [],
      "execution_count": null
    },
    {
      "cell_type": "markdown",
      "id": "d36e802c",
      "metadata": {},
      "source": [
        "Vi observerer at [TBW]\n",
        "\n",
        "### Hva betyr dette?\n",
        "\n",
        "[TBW]"
      ]
    },
    {
      "cell_type": "markdown",
      "id": "3d562840",
      "metadata": {},
      "source": [
        "## Netto vekst i kodelinjer <a class=\"anchor\" id=\"nettovekst\"></a>\n",
        "\n",
        "Netto vekst i kodelinjer indikerer at det blir mer kode å vedlikeholde. Refaktorering kan til en viss grad motvirke veksten."
      ]
    },
    {
      "cell_type": "code",
      "id": "42278ba4",
      "metadata": {},
      "source": [
        "df = df_changes[siste_tertial].loc[df_changes[siste_tertial]['language'].isin(['Kotlin', 'TypeScript'])].copy()\n",
        "\n",
        "df['net code lines'] = df['+ code'] - df['- code']\n",
        "df = df[['type', 'module', 'net code lines']]\n",
        "\n",
        "plt = df.groupby(['type', 'module']).sum().sort_index(ascending=True).plot.barh(title='Netto vekst i kodelinjer (Kotlin og Typescript)')"
      ],
      "outputs": [],
      "execution_count": null
    },
    {
      "cell_type": "markdown",
      "id": "c170f12c",
      "metadata": {},
      "source": [
        "### Hva betyr dette?\n",
        "\n",
        "[TBW]"
      ]
    },
    {
      "cell_type": "markdown",
      "id": "e1734c75",
      "metadata": {},
      "source": [
        "## Detaljer i netto vekst i kodelinjer <a class=\"anchor\" id=\"nettovekstdetaljer\"></a>"
      ]
    },
    {
      "cell_type": "code",
      "id": "f80b6e42",
      "metadata": {},
      "source": [
        "df = df_changes[siste_tertial][['module', 'language', '+ code', '- code']].copy()\n",
        "df['net code lines'] = df['+ code'] - df['- code']\n",
        "pivot = df.pivot(index='module', columns='language', values='net code lines')\n",
        "pivot = pivot.fillna(0)\n",
        "pivot.loc[:, 'Total']= pivot.sum(axis=1)\n",
        "pivot = pivot.sort_values(['Total'], ascending=False)\n",
        "pivot.loc['Total',:]= pivot.sum(axis=0)\n",
        "pivot = pivot.astype(int)\n",
        "pivot"
      ],
      "outputs": [],
      "execution_count": null
    },
    {
      "cell_type": "markdown",
      "id": "391539b1",
      "metadata": {},
      "source": [
        "Vi observerer at [TBW]"
      ]
    },
    {
      "cell_type": "markdown",
      "id": "629e8566",
      "metadata": {},
      "source": [
        "### Hva betyr dette?\n",
        "\n",
        "[TBW]"
      ]
    },
    {
      "cell_type": "markdown",
      "id": "4ae98e45",
      "metadata": {},
      "source": [
        "## Oppdatering av avhengigheter <a class=\"anchor\" id=\"oppdateringavhengigheter\"></a>\n",
        "\n",
        "Oppdateringer av avhengigheter reduserer risiko for sikkerhetshull, og er med på å redusere problemene med sporadiske oppdateringer (mange ting som oppdateres samtidig, og at store hopp i versjoner gjør det vanskeligere å finne feil dersom noe går galt)."
      ]
    },
    {
      "cell_type": "code",
      "id": "0f82c2ea",
      "metadata": {},
      "source": [
        "df = df_commits.loc[df_commits['UE']][['Tertial', 'Intention', 'commit']].loc[df_commits['Tertial'].isin(tertialer)]\n",
        "\n",
        "df = df.groupby(['Tertial', 'Intention']).count().unstack()\n",
        "fig = df.plot(kind='bar', stacked=True, title=\"UE-commits pr tertial\")"
      ],
      "outputs": [],
      "execution_count": null
    },
    {
      "cell_type": "markdown",
      "id": "c3ea305b",
      "metadata": {},
      "source": [
        "Vi observerer at [TBW]"
      ]
    },
    {
      "cell_type": "markdown",
      "id": "bccd5197",
      "metadata": {},
      "source": [
        "#### Oppdateringer av avhengigheter pr modul og måned"
      ]
    },
    {
      "cell_type": "code",
      "id": "11b4d729",
      "metadata": {},
      "source": [
        "df = df_commits.loc[df_commits['Tertial'] == siste_tertial].loc[df_commits['intention'] == 'U'][['Måned', 'type', 'module', 'commit']]\n",
        "\n",
        "pivot = df.groupby(['type', 'module', 'Måned']).count().unstack().fillna(0).astype(int)\n",
        "\n",
        "pivot.loc[:, 'Total'] = pivot.sum(axis=1)\n",
        "pivot = pivot.sort_values(['type','Total'], ascending=[True,False])\n",
        "pivot"
      ],
      "outputs": [],
      "execution_count": null
    },
    {
      "cell_type": "markdown",
      "id": "a365a2fb",
      "metadata": {},
      "source": [
        "### Hva betyr dette?\n",
        "\n",
        "[TBW]"
      ]
    },
    {
      "cell_type": "markdown",
      "id": "f413c556",
      "metadata": {},
      "source": [
        "## Løpende endringer i systemet <a class=\"anchor\" id=\"løpendeendringer\"></a>\n",
        "\n",
        "At det gjøres endringer i systemet er indikator på at systemet vedlikeholdes, noe som opprettholder kjennskapen til systemet. Vi ser her på endringer merket med B, D, F, R og T; de er knyttet til feilretting (B), dokumentasjon (nær/i koden) (D), funksjonalitet (F), interne forbedringer/refaktorering (R) og testforbedringer (T)."
      ]
    },
    {
      "cell_type": "code",
      "id": "f1cb7e55",
      "metadata": {},
      "source": [
        "df = df_commits.loc[df_commits['BDFRT']][['Tertial', 'Intention', 'commit']].loc[df_commits['Tertial'].isin(tertialer)]\n",
        "\n",
        "df = df.groupby(['Tertial', 'Intention']).count().unstack()\n",
        "fig = df.plot(kind='bar', stacked=True, title=\"BDFRT-commits pr tertial\").legend(loc='center left',bbox_to_anchor=(1.0, 0.5))"
      ],
      "outputs": [],
      "execution_count": null
    },
    {
      "cell_type": "code",
      "id": "32c16b35",
      "metadata": {},
      "source": [
        "df = df_commits.loc[df_commits['intention'].isin(['B','F','R'])][['Tertial', 'Intention', 'commit']].loc[df_commits['Tertial'].isin(tertialer)]\n",
        "\n",
        "df = df.groupby(['Tertial', 'Intention']).count().unstack()\n",
        "\n",
        "df_total = df.sum(axis=1)\n",
        "df_rel = df.div(df_total, 0) * 100\n",
        "\n",
        "fig = df_rel.plot(kind='bar', stacked=True, title=\"BFR-commits %-vis fordeling\").legend(loc='center left',bbox_to_anchor=(1.0, 0.5))"
      ],
      "outputs": [],
      "execution_count": null
    },
    {
      "cell_type": "markdown",
      "id": "56f0f991",
      "metadata": {},
      "source": [
        "Vi observerer at [TBW]"
      ]
    },
    {
      "cell_type": "code",
      "id": "b3809792",
      "metadata": {},
      "source": [
        "df = df_commits.loc[df_commits['BDFRT']].loc[df_commits['Tertial'] == siste_tertial].loc[df_commits['type']=='app'][['module', 'commit']]\n",
        "\n",
        "df = df.groupby('module').count().sort_values(by='commit', ascending=False)\n",
        "\n",
        "def autopct(pct):\n",
        "    return ('%.0f' % pct + '%') if pct > 3 else ''\n",
        "\n",
        "plt = df.plot.pie(\n",
        "    y='commit',\n",
        "    title=f'Fordeling av BDFRT-commits på app-er (bibliotek er utelatt) i {tertial}',\n",
        "    autopct=autopct, labeldistance=None).legend(loc='center left',bbox_to_anchor=(1.0, 0.5))\n"
      ],
      "outputs": [],
      "execution_count": null
    },
    {
      "cell_type": "markdown",
      "id": "f78ea35d",
      "metadata": {},
      "source": [
        "Vi observerer at [TBW]"
      ]
    },
    {
      "cell_type": "markdown",
      "id": "f43571a2",
      "metadata": {},
      "source": [
        "#### BDFRT-oppdateringer pr modul"
      ]
    },
    {
      "cell_type": "code",
      "id": "9b66a8de",
      "metadata": {},
      "source": [
        "df = df_commits.loc[df_commits['BDFRT']].loc[df_commits['Tertial'] == siste_tertial][['type', 'module', 'intention', 'commit']]\n",
        "\n",
        "df = df.groupby(['type', 'module', 'intention']).count().unstack()\n",
        "\n",
        "df['Total'] = df.sum(axis=1)\n",
        "\n",
        "df = df.fillna(0).astype(int).sort_values(by=['type', 'Total'], ascending=[True, False])\n",
        "df"
      ],
      "outputs": [],
      "execution_count": null
    },
    {
      "cell_type": "markdown",
      "id": "c58f2319",
      "metadata": {},
      "source": [
        "Vi observerer at [TBW]"
      ]
    },
    {
      "cell_type": "markdown",
      "id": "baf708ed",
      "metadata": {},
      "source": [
        "### Hva betyr dette?\n",
        "\n",
        "[TBW]"
      ]
    },
    {
      "cell_type": "markdown",
      "id": "f171c7eb",
      "metadata": {},
      "source": [
        "\n",
        "## Risiko <a class=\"anchor\" id=\"risiko\"></a>\n",
        "\n",
        "Vi merker commits med risiko, med en skala fra 0 til 5:\n",
        "\n",
        "0)\tIngen risiko\n",
        "1)\tKjent trygg\n",
        "2)\tValidert\n",
        "3)\tKjent restrisiko\n",
        "4)\tFeil/sannsynlig feil\n",
        "5)\tUkjent risiko\n",
        "\n",
        "Endringer med risiko 1 Kjent trygg har svært lav risiko og krever lite eller ingen kjøring av tester. Dokumentasjons- og testendringer skal ha risiko 1. For endringer i produksjonskode er det strenge regler for hvilke endringer som kan merkes risiko 1 – stort sett går det ut på at det er små endringer som er gjort med støtte av funksjonalitet i utviklingsverktøyet (IDE).\n",
        "\n",
        "Endringer med risiko 2 Validert krever som regel at tester kjøres lokalt for at man skal bli trygg, noe som kan ta litt tid, avhengig av app og oppsett. For oppdateringer av avhengigheter er det ofte vanskelig å si hva risiko er, men vi kjører tester for alle oppdateringer så vi merker dem rutinemessig med risiko 2.\n",
        "\n",
        "Endringer med risiko 3 Kjent restrisiko må ofte følges opp litt ekstra i forbindelse med produksjonssetting, eller de må testes manuelt før de går i produksjon.\n",
        "\n",
        "Risiko 4 er normalt ikke akseptabelt å dytte til produksjon – dette er endringer som er uferdige eller har høy risiko.\n",
        "\n",
        "Risiko 5 betyr at risiko er ukjent. Ofte vet man mer i situasjonen, men kunnskapen om risiko er tapt i ettertid (må eventuelt vurderes på nytt).\n",
        "\n",
        "Det er nok litt mer slurv med vurdering av risikonivå enn det er med vurdering av intensjon.\n",
        "\n",
        "De fleste endringer i produksjonskode vil være risiko fra 1 til 3"
      ]
    },
    {
      "cell_type": "code",
      "id": "70a74533",
      "metadata": {},
      "source": [
        "df = df_commits.loc[df_commits['intention'].isin(['B','F','R'])].loc[df_commits['Tertial'].isin(tertialer)][['Tertial', 'Risk', 'commit']]\n",
        "\n",
        "df = df.groupby(['Tertial', 'Risk']).count().unstack()\n",
        "\n",
        "df_total = df.sum(axis=1)\n",
        "df_rel = df.div(df_total, 0)*100\n",
        "\n",
        "fig = df_rel.plot(kind='bar', stacked=True, title=\"Risiko BFR-commits %-vis fordeling\").legend(loc='center left',bbox_to_anchor=(1.0, 0.5))"
      ],
      "outputs": [],
      "execution_count": null
    },
    {
      "cell_type": "markdown",
      "id": "b2908605",
      "metadata": {},
      "source": [
        "Vi observerer at [TBW]"
      ]
    },
    {
      "cell_type": "markdown",
      "id": "f777eb5a",
      "metadata": {},
      "source": [
        "### Hva betyr dette?\n",
        "\n",
        "[TBW]"
      ]
    }
  ],
  "metadata": {
    "kernelspec": {
      "display_name": "Python 3 (ipykernel)",
      "language": "python",
      "name": "python3"
    },
    "language_info": {
      "codemirror_mode": {
        "name": "ipython",
        "version": 3
      },
      "file_extension": ".py",
      "mimetype": "text/x-python",
      "name": "python",
      "nbconvert_exporter": "python",
      "pygments_lexer": "ipython3",
      "version": "3.11.2"
    }
  },
  "nbformat": 4,
  "nbformat_minor": 5
}
