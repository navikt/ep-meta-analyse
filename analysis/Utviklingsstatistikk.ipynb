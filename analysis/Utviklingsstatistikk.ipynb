{
 "cells": [
  {
   "cell_type": "markdown",
   "id": "fc0d5784",
   "metadata": {},
   "source": [
    " # Utviklingsstatistikk"
   ]
  },
  {
   "cell_type": "markdown",
   "id": "1b721dfc",
   "metadata": {},
   "source": [
    "[Formål](#formål)\n",
    "\n",
    "[Utfordring med å måle sikker og stabil drift](#utfordring)\n",
    "\n",
    "[Måleparametere](#måleparametere)\n",
    "\n",
    "[Om systemet](#omsystemet)\n",
    "\n",
    "[Målinger](#målinger)\n",
    "\n",
    "* [Kodestørrelse](#kodestørrelse)\n",
    "* [Kodeendringer](#kodeendringer)\n",
    "* [Netto vekst i kodelinjer](#nettovekst)\n",
    "* [Detaljer i netto vekst i kodelinjer](#nettovekstdetaljer)\n",
    "* [Oppdatering av avhengigheter](#oppdateringavhengigheter)\n",
    "* [Løpende endringer i systemet](#løpendeendringer)\n",
    "* [Risiko](#risiko)\n",
    "\n",
    "[Konklusjoner](#konklusjoner)"
   ]
  },
  {
   "cell_type": "markdown",
   "id": "d63f07ce",
   "metadata": {},
   "source": [
    "# Formål <a class=\"anchor\" id=\"formål\"></a>\n",
    "\n",
    "Teamet har blitt bedt om å måle på noe som kan indikere om vi har sikker og stabil drift."
   ]
  },
  {
   "cell_type": "markdown",
   "id": "3a9b08c6",
   "metadata": {},
   "source": [
    "# Utfordring med å måle sikker og stabil drift  <a class=\"anchor\" id=\"utfordring\"></a>\n",
    "\n",
    "Utfordringen med tradisjonell måling av sikker og stabil drift er at den gjerne måler på ting som oppetid eller rettetid. Dette er målinger som først slår ut etter at driften ikke lenger er sikker og/eller stabil, og det kan ta lang tid fra driften faktisk har blitt problematisk til målingene slår ut.\n",
    "\n",
    "Vår erfaring er at risiko øker når systemer ikke holdes vedlike. Risiko påvirkes av manglende vedlikehold gjennom flere prosesser:\n",
    "1)\tManglende oppdatering av avhengigheter gir økt sikkerhetsrisiko\n",
    "2)\tManglende teknisk oppdatering gir økt sikkerhetsrisiko og risiko for lav kjennskap til utdaterte tekniske løsninger\n",
    "3)\tLite andre endringer reduserer kunnskapen om systemet som øker rettetid og øker sjansen for feil når man en sjelden gang gjør enderinger\n",
    "\n",
    "Vi mener det er verdt å forsøke å måle på utviklingsprosessen for å se om det kan gi indikatorer som sier noe om risikobildet.\n",
    "\n",
    "Siden det er kostnader ved å gjøre målinger har vi sett etter målinger som er forholdsvis lette å innhente og som kan gi en indikasjon på at systemet vedlikeholdes.\n"
   ]
  },
  {
   "cell_type": "markdown",
   "id": "93444b90",
   "metadata": {},
   "source": [
    "# Måleparametere  <a class=\"anchor\" id=\"måleparametere\"></a>\n",
    "\n",
    "Teamet tok sommeren 2022 i bruk teknikkene micro-commits og Arlo’s commit notation – dette gjør det mulig å benytte commit-statistikk til å si noe om omfang, intensjon og risiko ved commit’er.\n",
    "\n",
    "Teamet har besluttet å se om\n",
    "•\ttellinger og forholdstall på ulike typer commits og\n",
    "•\tmåling på kodestørrelse\n",
    "kan indikere hvordan utviklingen er – og predikere eller illustrere en situasjon der det vil oppstå økt risiko for ustabil / usikker drift."
   ]
  },
  {
   "cell_type": "code",
   "execution_count": null,
   "id": "863c149b",
   "metadata": {
    "execution": {
     "iopub.execute_input": "2023-01-12T14:12:41.956807Z",
     "iopub.status.busy": "2023-01-12T14:12:41.956506Z",
     "iopub.status.idle": "2023-01-12T14:12:41.965191Z",
     "shell.execute_reply": "2023-01-12T14:12:41.964773Z"
    }
   },
   "outputs": [],
   "source": [
    "# Setter ROOT_DIR\n",
    "import os, sys\n",
    "ROOT_DIR = os.path.dirname(os.path.abspath(\"\")) if os.path.basename(os.path.abspath(\"\")) != \"eessi-pensjon\" else os.path.abspath(\"\")\n",
    "os.chdir(ROOT_DIR)\n",
    "sys.path.append(f'${ROOT_DIR}/script')"
   ]
  },
  {
   "cell_type": "code",
   "execution_count": null,
   "id": "a1537e77",
   "metadata": {
    "execution": {
     "iopub.execute_input": "2023-01-12T14:12:41.967698Z",
     "iopub.status.busy": "2023-01-12T14:12:41.967525Z",
     "iopub.status.idle": "2023-01-12T14:13:30.381458Z",
     "shell.execute_reply": "2023-01-12T14:13:30.380986Z"
    }
   },
   "outputs": [],
   "source": [
    "# Henter inn commit-data\n",
    "from datetime import datetime\n",
    "from script.lib.commit_data import gather_changes_from_subprojects\n",
    "\n",
    "startdate = datetime(2022, 1, 1)\n",
    "\n",
    "commits_dict = gather_changes_from_subprojects(ROOT_DIR, datetime.now() - startdate)"
   ]
  },
  {
   "cell_type": "code",
   "execution_count": null,
   "id": "d1b01652",
   "metadata": {
    "execution": {
     "iopub.execute_input": "2023-01-12T14:13:30.383468Z",
     "iopub.status.busy": "2023-01-12T14:13:30.383337Z",
     "iopub.status.idle": "2023-01-12T14:13:31.068028Z",
     "shell.execute_reply": "2023-01-12T14:13:31.067382Z"
    }
   },
   "outputs": [],
   "source": [
    "# Pass på at vi har pandas\n",
    "!pip install pandas 2>&1 1>/dev/null"
   ]
  },
  {
   "cell_type": "code",
   "execution_count": null,
   "id": "f5f238f6",
   "metadata": {
    "execution": {
     "iopub.execute_input": "2023-01-12T14:13:31.070480Z",
     "iopub.status.busy": "2023-01-12T14:13:31.070303Z",
     "iopub.status.idle": "2023-01-12T14:13:31.419931Z",
     "shell.execute_reply": "2023-01-12T14:13:31.419627Z"
    }
   },
   "outputs": [],
   "source": [
    "# Konverter data til Pandas dataframe\n",
    "import pandas as pd\n",
    "import numpy as np\n",
    "\n",
    "df = pd.DataFrame(commits_dict)\n",
    "\n",
    "# Fiks datoformat fra python til pandas (og samme tidssone)\n",
    "df['timestamp'] = df['timestamp'].apply(lambda x: pd.to_datetime(x).tz_convert('Europe/Berlin'))\n",
    "df['risk'] = pd.to_numeric(df['risk'])\n",
    "df['commit'] = df['hash']\n",
    "\n",
    "# Legg på måned og tertial\n",
    "\n",
    "df['Måned'] = pd.PeriodIndex(df['timestamp'], freq='M')\n",
    "df['Tertial'] = df[\"timestamp\"].apply(lambda x: f\"{x.year}T{int((x.month - 1) / 4) + 1}\")\n",
    "# Legger til noen kjekke kolonner\n",
    "df['BDFRT'] = np.where(df['intention'].isin(['B', 'D', 'F', 'R', 'T']), True, False)\n",
    "df['UE'] = np.where(df['intention'].isin(['U', 'E']), True, False)\n",
    "\n",
    "# Mer lesbar intention\n",
    "conditions = [df['intention'] == 'E', df['intention'] == 'A', df['intention'] == 'P',\n",
    "              df['intention'] == 'U', df['intention'] == 'F', df['intention'] == 'R',\n",
    "              df['intention'] == 'D', df['intention'] == 'T', df['intention'] == 'B',\n",
    "              df['intention'] == '*']\n",
    "choices = ['E Miljø', 'A Automatisert', 'P Release (bibliotek)', 'U Avhengighet',\n",
    "           'F Funksjonalitet', 'R Refaktorering', 'D Dokumentasjon', 'T Test',\n",
    "           'B Feilretting', '* Uklassifisert']\n",
    "df['Intention'] = np.select(conditions, choices, np.nan)\n",
    "\n",
    "# Mer lesbar risk\n",
    "conditions = [df['risk'] == 0, df['risk'] == 1, df['risk'] == 2, df['risk'] == 3,\n",
    "              df['risk'] == 4, df['risk'] == 5, pd.isnull(df['risk'])]\n",
    "choices = ['0 Ingen risiko', '1 Kjent trygg', '2 Validert', '3 Kjent restrisiko',\n",
    "           '4 Feil/sannsynlig feil', '5 Ukjent risiko', np.nan]\n",
    "df['Risk'] = np.select(conditions, choices, default=np.nan)\n",
    "\n",
    "df['Kjent intention/risiko'] = np.where(df['intention'] != '*', True, False)\n",
    "\n",
    "df_commits = df"
   ]
  },
  {
   "cell_type": "code",
   "execution_count": null,
   "id": "6ac847bd",
   "metadata": {
    "execution": {
     "iopub.execute_input": "2023-01-12T14:13:31.421592Z",
     "iopub.status.busy": "2023-01-12T14:13:31.421480Z",
     "iopub.status.idle": "2023-01-12T14:13:35.246244Z",
     "shell.execute_reply": "2023-01-12T14:13:35.245700Z"
    }
   },
   "outputs": [],
   "source": [
    "# Henter inn størrelsedata\n",
    "from script.lib.size_data import size_data, change_data\n",
    "\n",
    "size_dict = size_data()"
   ]
  },
  {
   "cell_type": "code",
   "execution_count": null,
   "id": "d502440f",
   "metadata": {
    "execution": {
     "iopub.execute_input": "2023-01-12T14:13:35.248057Z",
     "iopub.status.busy": "2023-01-12T14:13:35.247940Z",
     "iopub.status.idle": "2023-01-12T14:13:35.252530Z",
     "shell.execute_reply": "2023-01-12T14:13:35.252304Z"
    }
   },
   "outputs": [],
   "source": [
    "df = pd.DataFrame(size_dict)\n",
    "df['date'] = pd.to_datetime(df['date'], format='%Y-%m-%d')\n",
    "for col in ['files', 'blank lines', 'comment lines', 'code lines']:\n",
    "    df[col] = df[col].astype(int)\n",
    "\n",
    "df_size = df"
   ]
  },
  {
   "cell_type": "code",
   "execution_count": null,
   "id": "ee47fea1",
   "metadata": {},
   "outputs": [],
   "source": []
  },
  {
   "cell_type": "code",
   "execution_count": null,
   "id": "9a632919",
   "metadata": {
    "execution": {
     "iopub.execute_input": "2023-01-12T14:13:35.253850Z",
     "iopub.status.busy": "2023-01-12T14:13:35.253781Z",
     "iopub.status.idle": "2023-01-12T14:14:16.456400Z",
     "shell.execute_reply": "2023-01-12T14:14:16.455419Z"
    }
   },
   "outputs": [],
   "source": [
    " # Henter inn endring i størrelse-data\n",
    "\n",
    "tertial = \"2022T3\"\n",
    "changes_dict = change_data(tertial)\n",
    "\n",
    "df = pd.DataFrame(changes_dict)\n",
    "\n",
    "# Konverter \"tall\" til tall\n",
    "for col in df.columns[df.columns.get_loc('== files'):]:\n",
    "    df[col] = df[col].astype(int)\n",
    "\n",
    "df_changes = df"
   ]
  },
  {
   "cell_type": "code",
   "execution_count": null,
   "id": "b5fb2840",
   "metadata": {
    "execution": {
     "iopub.execute_input": "2023-01-12T14:14:16.460185Z",
     "iopub.status.busy": "2023-01-12T14:14:16.459962Z",
     "iopub.status.idle": "2023-01-12T14:14:17.208042Z",
     "shell.execute_reply": "2023-01-12T14:14:17.207553Z"
    }
   },
   "outputs": [],
   "source": [
    "!pip install matplotlib 2>&1 1>/dev/null"
   ]
  },
  {
   "cell_type": "code",
   "execution_count": null,
   "id": "8801dfbf",
   "metadata": {
    "execution": {
     "iopub.execute_input": "2023-01-12T14:14:17.210251Z",
     "iopub.status.busy": "2023-01-12T14:14:17.210108Z",
     "iopub.status.idle": "2023-01-12T14:14:17.461620Z",
     "shell.execute_reply": "2023-01-12T14:14:17.460941Z"
    }
   },
   "outputs": [],
   "source": [
    "df = df_commits\n",
    "\n",
    "df = df[['Måned', 'Kjent intention/risiko']]\n",
    "\n",
    "df = df.groupby(df['Måned']).mean()\n",
    "fig = df.plot(kind='bar')"
   ]
  },
  {
   "cell_type": "markdown",
   "id": "491c18a4",
   "metadata": {},
   "source": [
    "\n",
    "Grafen viser at det fra juli 2022 har vært høy andel commits med angivelse av intensjon og risiko, og derfor egner seg til å gjøre analyse. Siden vi normalt rapporterer på tertialnivå så baserer vi oss i resten av rapporten på tiden fra og med 3. tertial 2022 (2022T3)."
   ]
  },
  {
   "cell_type": "markdown",
   "id": "80f6359d",
   "metadata": {},
   "source": [
    "# Om systemet <a class=\"anchor\" id=\"omsystemet\"></a>\n",
    "\n",
    "Systemet består av en frontendapplikasjon (saksbehandling-ui), 10 backendapplikasjoner, 7 delte bibliotek på backend og et antall bibliotek på frontend (som foreløpig ikke er med i oversikten og statistikken).\n",
    "\n",
    "|Applikasjoner||\n",
    "|---|---|\n",
    "|saksbehandling-ui|Frontend for saksbehandlere|\n",
    "|oppgave|Oppgaver til Oppgave (asynkron)|\n",
    "|krav-initialisering|Krav til Pesys (asynkron)|\n",
    "|statistikk|Statistikk til Statistikk-folket (asynkron)|\n",
    "|onprem-proxy|For å kalle fra GCP til/fra onprem (Pesys mm) (online)|\n",
    "|saksbehandling-api|Fasade for diverse API for saksbehandling-ui (online)|\n",
    "|begrens-innsyn|Merking av saker med beskyttelse (asynkron)|\n",
    "|journalforing|Journalføring av dokumenter (asynkron)|\n",
    "|prefill|Preutfylling av SED (online)|\n",
    "|fagmodul|Diverse API for saksbehandling-ui m fl (online)|\n",
    "|pdl-produsent|Oppdatering av PDL med id’er og adresser (asynkron)|\n",
    "\n",
    "| Bibliotek              ||\n",
    "|------------------------|---|\n",
    "| ep-metrics             |Metrikk-bibliotek|\n",
    "| ep-eux                 |Domene-modell SED/BUC mm|\n",
    "| ep-logging             |Loggingsbibliotek|\n",
    "| ep-personoppslag       |Klient for oppslag mot PDL|\n",
    "| ep-security-sts        |Brukes onprem for token-utveksling|\n",
    "| ep-pensjonsinformasjon |Klient for oppslag mot Pesys|\n",
    "| ep-kodeverk            |Klient mm - opplag i kodeverk|\n",
    "\n",
    "| Meta                   ||\n",
    "| ---                    |---|\n",
    "| Meta                   |Verktøy for å jobbe på tvers av modulene nevnt ovenfor|\n",
    "\n"
   ]
  },
  {
   "cell_type": "markdown",
   "id": "b67a74ba",
   "metadata": {},
   "source": [
    "# Målinger <a class=\"anchor\" id=\"målinger\"></a>"
   ]
  },
  {
   "cell_type": "markdown",
   "id": "04a01cf7",
   "metadata": {},
   "source": [
    "## Kodestørrelse <a class=\"anchor\" id=\"kodestørrelse\"></a>\n",
    "\n",
    "Kodestørrelse i applikasjoner korrelerer godt med kompleksitet, som igjen korrelerer med feil- og vedlikeholdsomfang.\n",
    "\n",
    "Vi teller kodelinjer med cloc[^1]. (Det er noen små frontend-bibliotek som deles mellom EESSI NAV og EESSI Pensjon som ikke er med i statistikken)."
   ]
  },
  {
   "cell_type": "markdown",
   "id": "2d140601",
   "metadata": {},
   "source": [
    "### Kodestørrelse"
   ]
  },
  {
   "cell_type": "code",
   "execution_count": null,
   "id": "7b0446a5",
   "metadata": {
    "execution": {
     "iopub.execute_input": "2023-01-12T14:14:17.466790Z",
     "iopub.status.busy": "2023-01-12T14:14:17.466416Z",
     "iopub.status.idle": "2023-01-12T14:14:17.474521Z",
     "shell.execute_reply": "2023-01-12T14:14:17.472900Z"
    }
   },
   "outputs": [],
   "source": [
    "print(f\"Kodestørrelse pr {df_size['date'].dt.strftime('%d.%m.%Y')[0]}.\")"
   ]
  },
  {
   "cell_type": "code",
   "execution_count": null,
   "id": "c678d6ef",
   "metadata": {
    "execution": {
     "iopub.execute_input": "2023-01-12T14:14:17.479321Z",
     "iopub.status.busy": "2023-01-12T14:14:17.478950Z",
     "iopub.status.idle": "2023-01-12T14:14:17.496427Z",
     "shell.execute_reply": "2023-01-12T14:14:17.495692Z"
    }
   },
   "outputs": [],
   "source": [
    "df = df_size[['language', 'files', 'code lines', 'comment lines']]\n",
    "df.groupby('language').sum().sort_values(by='code lines', ascending=False)"
   ]
  },
  {
   "cell_type": "code",
   "execution_count": null,
   "id": "ca987390",
   "metadata": {
    "execution": {
     "iopub.execute_input": "2023-01-12T14:14:17.501233Z",
     "iopub.status.busy": "2023-01-12T14:14:17.500917Z",
     "iopub.status.idle": "2023-01-12T14:14:17.666883Z",
     "shell.execute_reply": "2023-01-12T14:14:17.666543Z"
    }
   },
   "outputs": [],
   "source": [
    "df = df_size[['language', 'code lines']]\n",
    "df = df.groupby('language').sum().sort_values('code lines', ascending=False)\n",
    "\n",
    "def autopct(pct): # only show the label when it's > 2%\n",
    "    return ('%.0f' % pct + '%') if pct > 2 else ''\n",
    "\n",
    "plt = df.plot.pie(y='code lines', autopct=autopct, labeldistance=None).legend(loc='center left',bbox_to_anchor=(1.0, 0.5))"
   ]
  },
  {
   "cell_type": "markdown",
   "id": "7254cc84",
   "metadata": {},
   "source": [
    "Koden er stort sett skrevet i Kotlin og TypeScript, og noe LESS– øvrig kode er knyttet til bygg, deploy, konfigurasjon og diverse utviklings- og støtteverktøy.\n"
   ]
  },
  {
   "cell_type": "markdown",
   "id": "516530c2",
   "metadata": {},
   "source": [
    "[^1]: Mer om cloc-kommandoen:\n",
    "```\n",
    "cloc --csv --vcs git --exclude-dir=dist,build,gradle --exclude-list-file=.clocignore --exclude-lang=JSON,XML --quiet .\n",
    "```\n",
    "der .clocignore inneholder:\n",
    "```\n",
    "gradlew\n",
    "gradlew.bat\n",
    "public/pdf.worker.js\n",
    "public/static/js/pdf.worker.js\n",
    "package-lock.json\n",
    "src/components/PostalCodes/Postal-codes-Norway-ansi.ts\n",
    "src/minibootstrap.less\n",
    "```"
   ]
  },
  {
   "cell_type": "code",
   "execution_count": null,
   "id": "a338a258",
   "metadata": {
    "execution": {
     "iopub.execute_input": "2023-01-12T14:14:17.668403Z",
     "iopub.status.busy": "2023-01-12T14:14:17.668304Z",
     "iopub.status.idle": "2023-01-12T14:14:17.673307Z",
     "shell.execute_reply": "2023-01-12T14:14:17.673070Z"
    }
   },
   "outputs": [],
   "source": [
    "df = df_size[['module', 'code lines']]\n",
    "df = df.groupby('module').sum().sort_values(by='code lines', ascending=False)\n",
    "df['code lines %'] = df['code lines'] / df['code lines'].sum() * 100\n",
    "df"
   ]
  },
  {
   "cell_type": "markdown",
   "id": "afda5693",
   "metadata": {},
   "source": [
    "Frontend-app’en for saksbehandling utgjør om lag en tredel av den totale koden, i én app."
   ]
  },
  {
   "cell_type": "code",
   "execution_count": null,
   "id": "568c3ded",
   "metadata": {
    "execution": {
     "iopub.execute_input": "2023-01-12T14:14:17.674732Z",
     "iopub.status.busy": "2023-01-12T14:14:17.674661Z",
     "iopub.status.idle": "2023-01-12T14:14:17.752036Z",
     "shell.execute_reply": "2023-01-12T14:14:17.751751Z"
    }
   },
   "outputs": [],
   "source": [
    "plot = df.plot.pie(y='code lines', legend=False, ylabel='', title=\"code by module\")"
   ]
  },
  {
   "cell_type": "code",
   "execution_count": null,
   "id": "aa2d535a",
   "metadata": {
    "execution": {
     "iopub.execute_input": "2023-01-12T14:14:17.753476Z",
     "iopub.status.busy": "2023-01-12T14:14:17.753383Z",
     "iopub.status.idle": "2023-01-12T14:14:18.035419Z",
     "shell.execute_reply": "2023-01-12T14:14:18.035188Z"
    }
   },
   "outputs": [],
   "source": [
    "df = df_size[['module', 'language', 'code lines']]\n",
    "df = df.groupby(['module', 'language']).sum().unstack()\n",
    "\n",
    "plt = df.plot(kind='bar', stacked=True, title=\"modules and languages\").legend(loc='center left',bbox_to_anchor=(1.0, 0.5))"
   ]
  },
  {
   "cell_type": "markdown",
   "id": "2293d8c7",
   "metadata": {
    "collapsed": false
   },
   "source": [
    "### Hva betyr dette?\n",
    "\n",
    "Teamet har i dag én frontendutvikler\n",
    " på halv tid (som kom inn i teamet i sommer og den første tiden jobbet bare en dag i uken). Det tar tid å bygge opp kompetanse på en kodebase av denne størrelsen, og teamet er spesielt sårbart på frontend.\n",
    "\n",
    "10-15% av koden er ikke i de to primære programmeringsspråkene (Kotlin og TypeScript). Dette gjenspeiler til dels at teamet også har hånd om bygg, deploy og applikasjonsdrift. (Koden for å lage underlag for denne rapporten er også en del av dette.)\n"
   ]
  },
  {
   "cell_type": "markdown",
   "id": "4fab451b",
   "metadata": {
    "collapsed": false
   },
   "source": [
    "\n",
    "## Kodeendringer <a class=\"anchor\" id=\"kodeendringer\"></a>\n",
    "\n",
    "Vi kan se på hvilke app’er det er gjort kodeendringer i ved å sammenlikne koden på starten og slutten av tertialet."
   ]
  },
  {
   "cell_type": "code",
   "execution_count": null,
   "id": "2be4a059",
   "metadata": {
    "execution": {
     "iopub.execute_input": "2023-01-12T14:14:18.037020Z",
     "iopub.status.busy": "2023-01-12T14:14:18.036929Z",
     "iopub.status.idle": "2023-01-12T14:14:18.176240Z",
     "shell.execute_reply": "2023-01-12T14:14:18.175959Z"
    }
   },
   "outputs": [],
   "source": [
    "\n",
    "df = df_changes[['type', 'module', '!= code', '+ code', '- code']].copy()\n",
    "\n",
    "df['touched code'] = df['!= code'] + df['+ code'] + (df['- code'] / 2).astype(int)\n",
    "\n",
    "df = df[['type', 'module', 'touched code']]\n",
    "\n",
    "plt = df.groupby(['type', 'module']).sum().sort_index(ascending=True).plot.barh(title='\"Rørte\" kodelinjer (endrede + nye + slettede/2)')"
   ]
  },
  {
   "cell_type": "markdown",
   "id": "fdb145b0",
   "metadata": {},
   "source": [
    "Vi ser at det er mest endring i kodelinjer i pdl-produsent, fagmodul og i frontenden for saksbehandlere.\n",
    "\n",
    "Endringer i kodelinjer er en indikasjon, men den påvirkes av ting som reformattering av koden så det kan være vanskelig å si hva årsaken er.\n",
    "\n",
    "### Hva betyr dette?\n",
    "\n",
    "En komponent er ikke rørt i det hele tatt i tertialet («ui» innholder bibliotek for frontend). Vi ser at det vi har jobbet mest med pdl-produsent (adresser til PDL) og saksbehandling-ui (trygdetidtabell) også dukker opp i denne statistikken."
   ]
  },
  {
   "cell_type": "markdown",
   "id": "3885ce06",
   "metadata": {},
   "source": [
    "## Netto vekst i kodelinjer <a class=\"anchor\" id=\"nettovekst\"></a>\n",
    "\n",
    "Netto vekst i kodelinjer indikerer at det blir mer kode å vedlikeholde. Refaktorering kan til en viss grad motvirke veksten."
   ]
  },
  {
   "cell_type": "code",
   "execution_count": null,
   "id": "f6ef2b5b",
   "metadata": {
    "execution": {
     "iopub.execute_input": "2023-01-12T14:14:18.177722Z",
     "iopub.status.busy": "2023-01-12T14:14:18.177629Z",
     "iopub.status.idle": "2023-01-12T14:14:18.285408Z",
     "shell.execute_reply": "2023-01-12T14:14:18.285133Z"
    }
   },
   "outputs": [],
   "source": [
    "df = df_changes.loc[df_changes['language'].isin(['Kotlin', 'TypeScript'])].copy()\n",
    "\n",
    "df['net code lines'] = df['+ code'] - df['- code']\n",
    "\n",
    "df = df[['type', 'module', 'net code lines']]\n",
    "\n",
    "plt = df.groupby(['type', 'module']).sum().sort_index(ascending=True).plot.barh(title='Netto vekst i kodelinjer (Kotlin og Typescript)')"
   ]
  },
  {
   "cell_type": "markdown",
   "id": "b8083591",
   "metadata": {
    "collapsed": false
   },
   "source": [
    "### Hva betyr dette?\n",
    "\n",
    "Dette viser at systemet øker i størrelse for språkene man stort sett bruker til å implementere tester og funksjonalitet. Det har tydeligvis også skjedd noe opprydning for noen moduler har minsket i størrelse, dette kan skyldes at kode er flyttet til bibliotek, eller annen opprydning. Mest sannsynlig har opprydning redusert størrelsen på koden i flere moduler, men tilveksten har spist opp gevinsten fra opprydningen.\n"
   ]
  },
  {
   "cell_type": "markdown",
   "id": "b2a55990",
   "metadata": {},
   "source": [
    "## Detaljer i netto vekst i kodelinjer <a class=\"anchor\" id=\"nettovekstdetaljer\"></a>"
   ]
  },
  {
   "cell_type": "code",
   "execution_count": null,
   "id": "cdd892f0",
   "metadata": {
    "execution": {
     "iopub.execute_input": "2023-01-12T14:14:18.286962Z",
     "iopub.status.busy": "2023-01-12T14:14:18.286869Z",
     "iopub.status.idle": "2023-01-12T14:14:18.294673Z",
     "shell.execute_reply": "2023-01-12T14:14:18.294324Z"
    }
   },
   "outputs": [],
   "source": [
    "df = df_changes[['module', 'language', '+ code', '- code']].copy()\n",
    "df['net code lines'] = df['+ code'] - df['- code']\n",
    "pivot = df.pivot(index='module', columns='language', values='net code lines')\n",
    "pivot = pivot.fillna(0)\n",
    "pivot.loc[:, 'Total']= pivot.sum(axis=1)\n",
    "pivot = pivot.sort_values(['Total'], ascending=False)\n",
    "pivot.loc['Total',:]= pivot.sum(axis=0)\n",
    "pivot = pivot.astype(int)\n",
    "pivot"
   ]
  },
  {
   "cell_type": "markdown",
   "id": "61acd126",
   "metadata": {},
   "source": [
    "Ved siden av økningen i kodelinjer med Kotlin og Typescript ser vi at det er mye økning i kodelinjer med gradle. (Dette er imidlertid ikke helt reelt fordi vi har omorganisert mye av gradle-koden basert på en mekanisme der vi endrer ett sted og så kopierer ut endringene til hver modul. Om vi teller de kopierte filene én gang så er det reelt sett en reduksjon i antall linjer med gradle-kode.)\n",
    "\n",
    "Det er også lagt til en del Python-kode."
   ]
  },
  {
   "cell_type": "markdown",
   "id": "efb1feed",
   "metadata": {
    "collapsed": false
   },
   "source": [
    "### Hva betyr dette?\n",
    "\n",
    "Å bare se på produksjonskoden gir ikke hele bildet av hva systemet består av.\n",
    "Teamet må beherske endringer også for andre språk/teknologier.\n",
    "Statistikken kan gi et skjevt bilde av utviklingen av vedlikeholdsbehovet (som for gradle i dette tilfellet)."
   ]
  },
  {
   "cell_type": "markdown",
   "id": "b1e23205",
   "metadata": {
    "collapsed": false
   },
   "source": [
    "## Oppdatering av avhengigheter <a class=\"anchor\" id=\"oppdateringavhengigheter\"></a>\n",
    "\n",
    "Oppdateringer av avhengigheter reduserer risiko for sikkerhetshull, og er med på å redusere problemene med sporadiske oppdateringer (mange ting som oppdateres samtidig, og at store hopp i versjoner gjør det vanskeligere å finne feil dersom noe går galt)."
   ]
  },
  {
   "cell_type": "code",
   "execution_count": null,
   "id": "f6191bad",
   "metadata": {
    "execution": {
     "iopub.execute_input": "2023-01-12T14:14:18.296218Z",
     "iopub.status.busy": "2023-01-12T14:14:18.296129Z",
     "iopub.status.idle": "2023-01-12T14:14:18.360886Z",
     "shell.execute_reply": "2023-01-12T14:14:18.360627Z"
    }
   },
   "outputs": [],
   "source": [
    "df = df_commits.loc[df_commits['UE']][['Tertial', 'Intention', 'commit']].loc[df_commits['Tertial'] == tertial]\n",
    "\n",
    "df = df.groupby(['Tertial', 'Intention']).count().unstack()\n",
    "fig = df.plot(kind='bar', stacked=True, title=\"UE-commits pr tertial\")"
   ]
  },
  {
   "cell_type": "markdown",
   "id": "059ac0e7",
   "metadata": {
    "collapsed": false
   },
   "source": [
    "Teamet har i 2022T3 gjort et stort antall oppdateringer på avhengigheter (i all hovedsak er dette oppdateringer til nye minor- og patch-versjoner).\n",
    "\n",
    "Backend-modulene i systemet gjøres det jevnlig oppdateringer på, teamet forsøker å gjøre oppdateringer ukentlig («patch Tuesday»). Dette fører til mange oppdateringer, men jobben med oppdateringene er relativt liten – prosessen er støttet med script som gjør det enklere. Fremgangsmåten teamet benytter fører til at det blir mange små endringer (stort sett en endring pr avhengighet pr modul).\n",
    "\n",
    "På frontend er det ikke noen fast rutine for dette, og det er også litt dårlig statistikk på dette fordi mekanismene og rutinene er forskjellige."
   ]
  },
  {
   "cell_type": "markdown",
   "id": "30af788e",
   "metadata": {
    "collapsed": false
   },
   "source": [
    "#### Oppdateringer av avhengigheter pr modul og måned"
   ]
  },
  {
   "cell_type": "code",
   "execution_count": null,
   "id": "29f7c368",
   "metadata": {
    "execution": {
     "iopub.execute_input": "2023-01-12T14:14:18.362898Z",
     "iopub.status.busy": "2023-01-12T14:14:18.362785Z",
     "iopub.status.idle": "2023-01-12T14:14:18.372511Z",
     "shell.execute_reply": "2023-01-12T14:14:18.372273Z"
    }
   },
   "outputs": [],
   "source": [
    "df = df_commits.loc[df_commits['Tertial'] == tertial].loc[df_commits['intention'] == 'U'][['Måned', 'type', 'module', 'commit']]\n",
    "\n",
    "pivot = df.groupby(['type', 'module', 'Måned']).count().unstack().fillna(0).astype(int)\n",
    "\n",
    "pivot.loc[:, 'Total'] = pivot.sum(axis=1)\n",
    "pivot = pivot.sort_values(['type','Total'], ascending=[True,False])\n",
    "pivot"
   ]
  },
  {
   "cell_type": "markdown",
   "id": "ac9e0998",
   "metadata": {
    "collapsed": false
   },
   "source": [
    "### Hva betyr dette?\n",
    "\n",
    "For backend-modulene ser det ut til at det er jevnlig oppdatering, for frontend-app’en saksbehandling-ui bør det nok ses nærmere på hvorfor det telles så få oppdateringer av avhengigheter."
   ]
  },
  {
   "cell_type": "markdown",
   "id": "5b16ee50",
   "metadata": {
    "collapsed": false
   },
   "source": [
    "## Løpende endringer i systemet <a class=\"anchor\" id=\"løpendeendringer\"></a>\n",
    "\n",
    "At det gjøres endringer i systemet er indikator på at systemet vedlikeholdes, noe som opprettholder kjennskapen til systemet. Vi ser her på endringer merket med B, D, F, R og T; de er knyttet til feilretting (B), dokumentasjon (nær/i koden) (D), funksjonalitet (F), interne forbedringer/refaktorering (R) og testforbedringer (T)."
   ]
  },
  {
   "cell_type": "code",
   "execution_count": null,
   "id": "6799e304",
   "metadata": {
    "execution": {
     "iopub.execute_input": "2023-01-12T14:14:18.374041Z",
     "iopub.status.busy": "2023-01-12T14:14:18.373971Z",
     "iopub.status.idle": "2023-01-12T14:14:18.449254Z",
     "shell.execute_reply": "2023-01-12T14:14:18.448971Z"
    }
   },
   "outputs": [],
   "source": [
    "df = df_commits.loc[df_commits['BDFRT']][['Tertial', 'Intention', 'commit']].loc[df_commits['Tertial'] == tertial]\n",
    "\n",
    "df = df.groupby(['Tertial', 'Intention']).count().unstack()\n",
    "fig = df.plot(kind='bar', stacked=True, title=\"BDFRT-commits pr tertial\").legend(loc='center left',bbox_to_anchor=(1.0, 0.5))"
   ]
  },
  {
   "cell_type": "code",
   "execution_count": null,
   "id": "f0003d07",
   "metadata": {
    "execution": {
     "iopub.execute_input": "2023-01-12T14:14:18.450733Z",
     "iopub.status.busy": "2023-01-12T14:14:18.450645Z",
     "iopub.status.idle": "2023-01-12T14:14:18.522079Z",
     "shell.execute_reply": "2023-01-12T14:14:18.521797Z"
    }
   },
   "outputs": [],
   "source": [
    "df = df_commits.loc[df_commits['intention'].isin(['B','F','R'])][['Tertial', 'Intention', 'commit']].loc[df_commits['Tertial'] == tertial]\n",
    "\n",
    "df = df.groupby(['Tertial', 'Intention']).count().unstack()\n",
    "\n",
    "df_total = df.sum(axis=1)\n",
    "df_rel = df.div(df_total, 0)*100\n",
    "\n",
    "fig = df_rel.plot(kind='bar', stacked=True, title=\"BFR-commits %-vis fordeling\").legend(loc='center left',bbox_to_anchor=(1.0, 0.5))"
   ]
  },
  {
   "cell_type": "markdown",
   "id": "0e52099c",
   "metadata": {
    "collapsed": false
   },
   "source": [
    "Om vi snevrer inn til feilrettings-, refaktorerings- og funksjonalitetsrelaterte endringer så ser vi at feilretting utgjør litt over en tidel av disse endringene, og refaktorering en drøy tredel.\n",
    "\n",
    "Feilrettingsendringer (B) er ikke nødvendigvis knyttet til feil som har truffet produksjon, men av disse endringene er knyttet til det. Ellers er feilene som regel nyoppdaget (vi prøver å ta unna når vi oppdager dem), men det er ikke lett å si om de er gamle eller innført nylig.\n",
    "\n",
    "Endringene er merket refaktorering (R) er endringer som gjøres for å forbedre den interne kvaliteten, og ikke minst for at koden (som ofte er skrevet av noen andre) skal bli lettere å forstå for den som jobber med den i øyeblikket, eller i fremtiden. Sannsynligvis vil det gjøre systemet enklere å endre neste gang, med mindre risiko for feil og bittelitt mindre innsats. Dersom andelen refaktoreringsendringer faller er det viktig å undersøke hva som skjer."
   ]
  },
  {
   "cell_type": "code",
   "execution_count": null,
   "id": "c4c567d6",
   "metadata": {
    "execution": {
     "iopub.execute_input": "2023-01-12T14:14:18.523528Z",
     "iopub.status.busy": "2023-01-12T14:14:18.523452Z",
     "iopub.status.idle": "2023-01-12T14:14:18.610390Z",
     "shell.execute_reply": "2023-01-12T14:14:18.610117Z"
    }
   },
   "outputs": [],
   "source": [
    "df = df_commits.loc[df_commits['BDFRT']].loc[df_commits['Tertial'] == tertial].loc[df_commits['type']=='app'][['module', 'commit']]\n",
    "\n",
    "df = df.groupby('module').count().sort_values(by='commit', ascending=False)\n",
    "\n",
    "def autopct(pct):\n",
    "    return ('%.0f' % pct + '%') if pct > 3 else ''\n",
    "\n",
    "plt = df.plot.pie(\n",
    "    y='commit',\n",
    "    title=f'Fordeling av BDFRT-commits på app-er (bibliotek er utelatt) i {tertial}',\n",
    "    autopct=autopct, labeldistance=None).legend(loc='center left',bbox_to_anchor=(1.0, 0.5))\n"
   ]
  },
  {
   "cell_type": "markdown",
   "id": "7cc9a1c2",
   "metadata": {
    "collapsed": false
   },
   "source": [
    "I 2022T3 er det gjort flest endringer på pdl-produsent.\n",
    "\n",
    "Dette er i stor grad knyttet til at det er implementert automatisk oppdatering av utenlandske kontaktadresser i PDL. Funksjonaliteten som er bygget i pdl-produsent er middels komplisert, men avgrenset i omfang.\n",
    "\n",
    "Det er gjort lite arbeid på flere viktige moduler, spesielt gjelder det journalføring og oppgave-modulen (mens prefill og fagmodul som er to andre viktige komponenter, har noe endringer)."
   ]
  },
  {
   "cell_type": "markdown",
   "id": "5a907a7a",
   "metadata": {
    "collapsed": false
   },
   "source": [
    "#### BDFRT-oppdateringer pr modul"
   ]
  },
  {
   "cell_type": "code",
   "execution_count": null,
   "id": "e75401ef",
   "metadata": {
    "execution": {
     "iopub.execute_input": "2023-01-12T14:14:18.611808Z",
     "iopub.status.busy": "2023-01-12T14:14:18.611717Z",
     "iopub.status.idle": "2023-01-12T14:14:18.619583Z",
     "shell.execute_reply": "2023-01-12T14:14:18.619346Z"
    }
   },
   "outputs": [],
   "source": [
    "df = df_commits.loc[df_commits['BDFRT']].loc[df_commits['Tertial'] == tertial][['type', 'module', 'intention', 'commit']]\n",
    "\n",
    "df = df.groupby(['type', 'module', 'intention']).count().unstack()\n",
    "df['Total'] = df.sum(axis=1)\n",
    "\n",
    "df = df.fillna(0).astype(int).sort_values(by=['type', 'Total'], ascending=[True, False])\n",
    "df"
   ]
  },
  {
   "cell_type": "markdown",
   "id": "910febac",
   "metadata": {},
   "source": [
    "Vi ser at det er mest feilretting (B) på pdl-produsent og saksbehandling-ui."
   ]
  },
  {
   "cell_type": "markdown",
   "id": "d6f6509d",
   "metadata": {
    "collapsed": false
   },
   "source": [
    "### Hva betyr dette?\n",
    "\n",
    "Kunnskapen om pdl-produsent er god etter nylig arbeid på den, og vi ser at de tre viktige modulene saksbehandling-ui, fagmodul og prefill er gjort litt på, mens to andre viktige moduler (journalføring og oppgave) er gjort lite arbeid på, noe som er bekymringsfullt med tanke på forvitring av kompetansen på disse.\n",
    "\n",
    "De øvrige modulene med relativt lite endringer er litt mindre bekymringsfulle siden de er relativt små og enkle.\n",
    "\n",
    "De feil-relaterte endringene på pdl-produsent og saksbehandling-ui har trolig ulike årsaker. For pdl-produsent handler det trolig om at det har blitt gjort mye endringer – og endringer korrelerer gjerne med at det introduseres – eller oppdages – feil. For saksbehandling-ui kan det kanskje også handle om at det er feil som ikke er nye, men at man der har lite (og har hatt enda mindre) kapasitet så feil har fått samle seg opp før de har blitt rettet\n"
   ]
  },
  {
   "cell_type": "markdown",
   "id": "023fb908",
   "metadata": {
    "collapsed": false
   },
   "source": [
    "\n",
    "## Risiko <a class=\"anchor\" id=\"risiko\"></a>\n",
    "\n",
    "Vi merker commits med risiko, med en skala fra 0 til 5:\n",
    "\n",
    "0)\tIngen risiko\n",
    "1)\tKjent trygg\n",
    "2)\tValidert\n",
    "3)\tKjent restrisiko\n",
    "4)\tFeil/sannsynlig feil\n",
    "5)\tUkjent risiko\n",
    "\n",
    "Endringer med risiko 1 Kjent trygg har svært lav risiko og krever lite eller ingen kjøring av tester. Dokumentasjons- og testendringer skal ha risiko 1. For endringer i produksjonskode er det strenge regler for hvilke endringer som kan merkes risiko 1 – stort sett går det ut på at det er små endringer som er gjort med støtte av funksjonalitet i utviklingsverktøyet (IDE).\n",
    "\n",
    "Endringer med risiko 2 Validert krever som regel at tester kjøres lokalt for at man skal bli trygg, noe som kan ta litt tid, avhengig av app og oppsett. For oppdateringer av avhengigheter er det ofte vanskelig å si hva risiko er, men vi kjører tester for alle oppdateringer så vi merker dem rutinemessig med risiko 2.\n",
    "\n",
    "Endringer med risiko 3 Kjent restrisiko må ofte følges opp litt ekstra i forbindelse med produksjonssetting, eller de må testes manuelt før de går i produksjon.\n",
    "\n",
    "Risiko 4 er normalt ikke akseptabelt å dytte til produksjon – dette er endringer som er uferdige eller har høy risiko.\n",
    "\n",
    "Risiko 5 betyr at risiko er ukjent. Ofte vet man mer i situasjonen, men kunnskapen om risiko er tapt i ettertid (må eventuelt vurderes på nytt).\n",
    "\n",
    "Det er nok litt mer slurv med vurdering av risikonivå enn det er med vurdering av intensjon.\n",
    "\n",
    "De fleste endringer i produksjonskode vil være risiko fra 1 til 3"
   ]
  },
  {
   "cell_type": "code",
   "execution_count": null,
   "id": "36e4d70c",
   "metadata": {
    "execution": {
     "iopub.execute_input": "2023-01-12T14:14:18.621236Z",
     "iopub.status.busy": "2023-01-12T14:14:18.621104Z",
     "iopub.status.idle": "2023-01-12T14:14:18.691244Z",
     "shell.execute_reply": "2023-01-12T14:14:18.690926Z"
    }
   },
   "outputs": [],
   "source": [
    "df = df_commits.loc[df_commits['intention'].isin(['B','F','R'])].loc[df_commits['Tertial'] == tertial][['Tertial', 'Risk', 'commit']]\n",
    "\n",
    "df = df.groupby(['Tertial', 'Risk']).count().unstack()\n",
    "\n",
    "df_total = df.sum(axis=1)\n",
    "df_rel = df.div(df_total, 0)*100\n",
    "\n",
    "fig = df_rel.plot(kind='bar', stacked=True, title=\"Risiko BFR-commits %-vis fordeling\").legend(loc='center left',bbox_to_anchor=(1.0, 0.5))"
   ]
  },
  {
   "cell_type": "markdown",
   "id": "f776e741",
   "metadata": {
    "collapsed": false
   },
   "source": [
    "De kjent trygge endringene utgjør ca 40%. For commits som typisk endrer produksjonskode ser vi at andelen med kjent restrisiko er under 10%."
   ]
  },
  {
   "cell_type": "markdown",
   "id": "2858f957",
   "metadata": {
    "collapsed": false
   },
   "source": [
    "### Hva betyr dette?\n",
    "\n",
    "Få endringer med restrisiko er bra – det betyr mindre jobb med å følge opp endringen på vei ut i produksjon. Kjent trygge endringer er ofte endringer som bedrer lesbarhet og struktur i koden, at det er på 40% betyr trolig at det er mange små forbedringer."
   ]
  },
  {
   "cell_type": "markdown",
   "id": "8fb57d8d",
   "metadata": {
    "collapsed": false
   },
   "source": [
    "\n",
    "# Konklusjoner <a class=\"anchor\" id=\"konklusjoner\"></a>"
   ]
  },
  {
   "cell_type": "code",
   "execution_count": null,
   "id": "9e4bbef9",
   "metadata": {
    "execution": {
     "iopub.execute_input": "2023-01-12T14:14:18.692796Z",
     "iopub.status.busy": "2023-01-12T14:14:18.692705Z",
     "iopub.status.idle": "2023-01-12T14:14:19.420664Z",
     "shell.execute_reply": "2023-01-12T14:14:19.420029Z"
    }
   },
   "outputs": [],
   "source": [
    "! pip install pyppeteer 2>&1 1>/dev/null\n",
    "# jupyter nbconvert \"Utviklingsstatistikk.ipynb\" --to webpdf --TemplateExporter.exclude_input=True --allow-chromium-download\n"
   ]
  }
 ],
 "metadata": {
  "kernelspec": {
   "display_name": "Python 3 (ipykernel)",
   "language": "python",
   "name": "python3"
  },
  "language_info": {
   "codemirror_mode": {
    "name": "ipython",
    "version": 3
   },
   "file_extension": ".py",
   "mimetype": "text/x-python",
   "name": "python",
   "nbconvert_exporter": "python",
   "pygments_lexer": "ipython3",
   "version": "3.11.1"
  }
 },
 "nbformat": 4,
 "nbformat_minor": 5
}
